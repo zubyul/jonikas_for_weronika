{
 "cells": [
  {
   "cell_type": "markdown",
   "id": "d9e9bd8e",
   "metadata": {},
   "source": [
    "In this script I clean the data then generate a heatmap of number of reads per well per plate "
   ]
  },
  {
   "cell_type": "code",
   "execution_count": 2,
   "id": "fd1a6fc8",
   "metadata": {},
   "outputs": [],
   "source": [
    "import pandas as pd\n",
    "import seaborn as sns\n",
    "import matplotlib.pyplot as plt\n",
    "plt.rcParams['figure.max_open_warning'] = 0\n",
    "import numpy as np\n",
    "#import pandas as pd\n",
    "df3 = pd.read_table(r\"D:\\Yuliya_test_data_table\\Yuliya_test_data_table_deconv-only_3prime.txt\", delimiter = '\\t')#, nrows=2)\n",
    "df5 = pd.read_table(r\"D:\\Yuliya_test_data_table\\Yuliya_test_data_table_deconv-only.txt\", delimiter = '\\t')#, nrows=2)\n",
    "#how many unique dna seq\n",
    "unique_sequences = set()\n",
    "\n"
   ]
  },
  {
   "cell_type": "markdown",
   "id": "d608446f",
   "metadata": {},
   "source": [
    "# 3'"
   ]
  },
  {
   "cell_type": "markdown",
   "id": "b4018bc9",
   "metadata": {},
   "source": [
    "This is the section where I clean the data, disposing of the empty plates"
   ]
  },
  {
   "cell_type": "code",
   "execution_count": 2,
   "id": "989403aa",
   "metadata": {},
   "outputs": [],
   "source": [
    "dfclean3 = df3.copy()\n",
    "#keep this order because I went through the output file individually to determine these lines\n",
    "dfclean3 = dfclean3[~dfclean3.index.isin(range(32629, 32917))] #122\n",
    "dfclean3 = dfclean3[~dfclean3.index.isin(range(33826, 34687))] #126, 127, 128\n",
    "dfclean3 = dfclean3[~dfclean3.index.isin(range(34943, 35494))] #130, 131\n",
    "dfclean3 = dfclean3[~dfclean3.index.isin(range(35757, 36008))] #133\n",
    "dfclean3 = dfclean3[~dfclean3.index.isin(range(37729, 37949))] #140\n",
    "dfclean3 = dfclean3[~dfclean3.index.isin(range(38234, 38463))] #142\n",
    "dfclean3 = dfclean3[~dfclean3.index.isin(range(38972, 39559))] #145, 146\n",
    "dfclean3 = dfclean3[~dfclean3.index.isin(range(45581, 48310))] #170, 171, 172, 173, 174, 175, 176, 177, 178, 179, 180, 181, 182\n",
    "dfclean3 = dfclean3[~(dfclean3.index >= 111952)] #the rest\n",
    "\n",
    "pd.set_option('display.max_rows', None)  # Show all rows\n",
    "pd.set_option('display.max_columns', None)  # Show all columns\n",
    "pd.set_option('display.width', None)  # Disable column width wrapping\n",
    "\n",
    "# Print the entire dataframe\n",
    "#print(dfclean3)\n",
    "#export\n",
    "#dfclean2.to_excel('C:/Users/Administrator/Desktop/dfclean3.xlsx', index=False)"
   ]
  },
  {
   "cell_type": "code",
   "execution_count": 3,
   "id": "fd0c3cb1",
   "metadata": {},
   "outputs": [
    {
     "name": "stdout",
     "output_type": "stream",
     "text": [
      "There are 106236 unique DNA sequences in the 'dna_sequence' column.\n"
     ]
    }
   ],
   "source": [
    "##Nubmer of unique sequences\n",
    "unique_sequences = set()\n",
    "# Iterate over the DNA sequence column and add each unique sequence to the set\n",
    "for sequence in dfclean3['IB']:\n",
    "    if sequence not in unique_sequences:\n",
    "        unique_sequences.add(sequence)\n",
    "\n",
    "# Print the number of unique sequences\n",
    "print(f\"There are {len(unique_sequences)} unique DNA sequences in the 'dna_sequence' column.\")"
   ]
  },
  {
   "cell_type": "markdown",
   "id": "bf59f27d",
   "metadata": {},
   "source": [
    "## generate dict of dataframes, one for each plate, showing count per well"
   ]
  },
  {
   "cell_type": "code",
   "execution_count": 4,
   "id": "ad78c4e0",
   "metadata": {},
   "outputs": [],
   "source": [
    "# Group the dataframe by 'plate' and 'well' and count the occurrences\n",
    "grouped3 = dfclean3.groupby(['plate', 'well']).size()\n",
    "grouped3df = grouped3.reset_index().rename(columns={0:'count'})\n",
    "#print(type(grouped3df))\n",
    "#print(grouped3df.columns)\n",
    "#print(grouped3)"
   ]
  },
  {
   "cell_type": "code",
   "execution_count": 5,
   "id": "c531788e",
   "metadata": {},
   "outputs": [
    {
     "name": "stdout",
     "output_type": "stream",
     "text": [
      "Index(['plate', 'well', 'count', 'wellLet', 'wellLet2', 'wellNo', 'platenum'], dtype='object')\n"
     ]
    }
   ],
   "source": [
    "##Create new columns with the letter and number information \n",
    "grouped3df['wellLet'] = grouped3df['well'].str.extract('([A-Za-z]+)')\n",
    "grouped3df['wellNo'] = grouped3df['well'].str.extract('(\\d+)').astype(int)\n",
    "grouped3df['platenum'] = grouped3df['plate'].str.extract('(\\d+)').astype(int)\n",
    "print(grouped3df.columns)\n"
   ]
  },
  {
   "cell_type": "code",
   "execution_count": 6,
   "id": "7088b35a",
   "metadata": {},
   "outputs": [
    {
     "name": "stdout",
     "output_type": "stream",
     "text": [
      "<class 'dict'>\n"
     ]
    }
   ],
   "source": [
    "##generate a dictionary of dataframes, one per plate\n",
    "grouped3dfs = {}\n",
    "for pattern, group in grouped3df.groupby('platenum'):\n",
    "    grouped3dfs[pattern] = group\n",
    "#print(grouped3dfs)\n",
    "print(type(grouped3dfs))"
   ]
  },
  {
   "cell_type": "markdown",
   "id": "6a758c98",
   "metadata": {},
   "source": [
    "## Plot readcounts per plate"
   ]
  },
  {
   "cell_type": "code",
   "execution_count": 1,
   "id": "f886d580",
   "metadata": {},
   "outputs": [
    {
     "ename": "NameError",
     "evalue": "name 'grouped3dfs' is not defined",
     "output_type": "error",
     "traceback": [
      "\u001b[1;31m---------------------------------------------------------------------------\u001b[0m",
      "\u001b[1;31mNameError\u001b[0m                                 Traceback (most recent call last)",
      "\u001b[1;32m~\\AppData\\Local\\Temp\\ipykernel_23592\\2571810263.py\u001b[0m in \u001b[0;36m<module>\u001b[1;34m\u001b[0m\n\u001b[0;32m      1\u001b[0m \u001b[1;31m#if you want to generate just one plate instead of all of them, tab plt.legend and plt.show to be in the second for loop\u001b[0m\u001b[1;33m\u001b[0m\u001b[1;33m\u001b[0m\u001b[0m\n\u001b[1;32m----> 2\u001b[1;33m \u001b[1;32mfor\u001b[0m \u001b[0mkey\u001b[0m\u001b[1;33m,\u001b[0m \u001b[0mdf\u001b[0m \u001b[1;32min\u001b[0m \u001b[0mgrouped3dfs\u001b[0m\u001b[1;33m.\u001b[0m\u001b[0mitems\u001b[0m\u001b[1;33m(\u001b[0m\u001b[1;33m)\u001b[0m\u001b[1;33m:\u001b[0m\u001b[1;33m\u001b[0m\u001b[1;33m\u001b[0m\u001b[0m\n\u001b[0m\u001b[0;32m      3\u001b[0m     \u001b[0mindvWell\u001b[0m\u001b[1;33m=\u001b[0m \u001b[0mdf\u001b[0m\u001b[1;33m.\u001b[0m\u001b[0mgroupby\u001b[0m\u001b[1;33m(\u001b[0m\u001b[1;34m'wellLet'\u001b[0m\u001b[1;33m)\u001b[0m\u001b[1;33m\u001b[0m\u001b[1;33m\u001b[0m\u001b[0m\n\u001b[0;32m      4\u001b[0m     \u001b[0mplt\u001b[0m\u001b[1;33m.\u001b[0m\u001b[0mfigure\u001b[0m\u001b[1;33m(\u001b[0m\u001b[0mfigsize\u001b[0m\u001b[1;33m=\u001b[0m\u001b[1;33m(\u001b[0m\u001b[1;36m25\u001b[0m\u001b[1;33m,\u001b[0m \u001b[1;36m6\u001b[0m\u001b[1;33m)\u001b[0m\u001b[1;33m)\u001b[0m\u001b[1;33m\u001b[0m\u001b[1;33m\u001b[0m\u001b[0m\n\u001b[0;32m      5\u001b[0m     \u001b[1;31m#plt.scatter(df['well'],df['count'])\u001b[0m\u001b[1;33m\u001b[0m\u001b[1;33m\u001b[0m\u001b[0m\n",
      "\u001b[1;31mNameError\u001b[0m: name 'grouped3dfs' is not defined"
     ]
    }
   ],
   "source": [
    "for key, df in grouped3dfs.items():\n",
    "    indvWell= df.groupby('wellLet')\n",
    "    plt.figure(figsize=(25, 6))\n",
    "    #plt.scatter(df['well'],df['count'])\n",
    "    plt.xlabel('well')\n",
    "    plt.ylabel('count')\n",
    "    plt.title(f'Plot for plate {key}')\n",
    "    for group_name, group_data in indvWell:  \n",
    "        x_values = group_data['wellNo']\n",
    "        y_values = group_data['count']\n",
    "        noise = np.random.uniform(low=-0.1, high=0.1, size=len(x_values))\n",
    "        shifted_x = x_values + noise\n",
    "        plt.scatter(shifted_x, y_values, label=group_name, alpha=0.7, s=10)\n",
    "        #plt.plot(shifted_x, y_values, label=group_name, alpha=0.7)\n",
    "        x_label = x_values.iloc[-1]\n",
    "        y_label = y_values.iloc[-1]\n",
    "        #plt.text(x_label, y_label, group_name, ha='center', va='center')\n",
    "    plt.legend()\n",
    "    plt.show()"
   ]
  },
  {
   "cell_type": "markdown",
   "id": "fd95f33f",
   "metadata": {},
   "source": [
    "## Plot readcounts per well per plate"
   ]
  },
  {
   "cell_type": "code",
   "execution_count": null,
   "id": "4816ace9",
   "metadata": {},
   "outputs": [],
   "source": [
    "for key, df in grouped3dfs.items():\n",
    "    indvWell= df.groupby('wellLet')\n",
    "    for group_name, group_data in indvWell:  \n",
    "        plt.figure(figsize=(25, 6))\n",
    "        #plt.scatter(df['well'],df['count'])\n",
    "        plt.xlabel('well')\n",
    "        plt.ylabel('count')\n",
    "        plt.title(f'Plot for plate {key}')\n",
    "        x_values = group_data['wellNo']\n",
    "        y_values = group_data['count']\n",
    "        noise = np.random.uniform(low=-0.1, high=0.1, size=len(x_values))\n",
    "        shifted_x = x_values + noise\n",
    "        plt.scatter(shifted_x, y_values, label=group_name, alpha=0.7, s=10)\n",
    "        plt.xticks(range(1, 25))\n",
    "        #plt.plot(shifted_x, y_values, label=group_name, alpha=0.7)\n",
    "        x_label = x_values.iloc[-1]\n",
    "        y_label = y_values.iloc[-1]\n",
    "        #plt.text(x_label, y_label, group_name, ha='center', va='center')\n",
    "        plt.legend()\n",
    "        plt.show()"
   ]
  },
  {
   "cell_type": "markdown",
   "id": "c157beb4",
   "metadata": {},
   "source": [
    "## Plot a heatmap"
   ]
  },
  {
   "cell_type": "code",
   "execution_count": null,
   "id": "b35e54f6",
   "metadata": {},
   "outputs": [],
   "source": [
    "# Create an empty dataframe to store the concatenated pivot data\n",
    "concatenated_pivot_data = pd.DataFrame()\n",
    "\n",
    "# Iterate over the grouped data\n",
    "for key, df in grouped3dfs.items():\n",
    "    indvWell = df.groupby('wellLet')\n",
    "    # Iterate over each group\n",
    "    for group_name, group_data in indvWell:\n",
    "        #print(group_data)\n",
    "        pivot_data = group_data.pivot_table(index='wellLet', columns='wellNo', values='count')\n",
    "        pivot_data = pivot_data.reindex(columns=np.arange(1, 25))\n",
    "        pivot_data = pivot_data.fillna(0)\n",
    "        #print(pivot_data)\n",
    "    # Add the pivot data to the concatenated dataframe\n",
    "        concatenated_pivot_data = pd.concat([concatenated_pivot_data, pivot_data])\n",
    "        #print(concatenated_pivot_data)\n",
    "# Plot the heatmap for the concatenated pivot data\n",
    "    #plt.figure(figsize=(10, 8))\n",
    "    sns.heatmap(concatenated_pivot_data, cmap='Greens', annot=True, vmin=0, vmax=5)\n",
    "    plt.xlabel('wellNo')\n",
    "    plt.ylabel('well')\n",
    "    plt.title(key)\n",
    "    plt.show()\n",
    "    concatenated_pivot_data = pd.DataFrame()"
   ]
  },
  {
   "cell_type": "markdown",
   "id": "561411aa",
   "metadata": {},
   "source": [
    "# 5'"
   ]
  },
  {
   "cell_type": "markdown",
   "id": "883210e1",
   "metadata": {},
   "source": [
    "This is the section where I clean the data, disposing of the empty plates"
   ]
  },
  {
   "cell_type": "code",
   "execution_count": 3,
   "id": "188deb95",
   "metadata": {},
   "outputs": [],
   "source": [
    "dfclean5 = df5.copy()\n",
    "#keep this order because I went through the output file individually to determine these lines\n",
    "dfclean5 = dfclean5[~dfclean5.index.isin(range(33482, 33797))] #122\n",
    "dfclean5 = dfclean5[~dfclean5.index.isin(range(34747, 35652))] #126, 127, 128\n",
    "dfclean5 = dfclean5[~dfclean5.index.isin(range(35930, 36501))] #130, 131\n",
    "dfclean5 = dfclean5[~dfclean5.index.isin(range(36770, 37054))] #133\n",
    "dfclean5 = dfclean5[~dfclean5.index.isin(range(38773, 39015))] #140\n",
    "dfclean5 = dfclean5[~dfclean5.index.isin(range(39325, 39543))] #142\n",
    "dfclean5 = dfclean5[~dfclean5.index.isin(range(40030, 40626))] #145, 146\n",
    "dfclean5 = dfclean5[~dfclean5.index.isin(range(46853, 49718))] #170, 171, 172, 173, 174, 175, 176, 177, 178, 179, 180, 181, 182\n",
    "dfclean5 = dfclean5[~(dfclean5.index >= 115849)] #the rest\n",
    "\n",
    "pd.set_option('display.max_rows', None)  # Show all rows\n",
    "pd.set_option('display.max_columns', None)  # Show all columns\n",
    "pd.set_option('display.width', None)  # Disable column width wrapping\n",
    "\n",
    "# Print the entire dataframe\n",
    "#print(dfclean5)\n",
    "#dfclean2.to_excel('C:/Users/Administrator/Desktop/dfclean5.xlsx', index=False)"
   ]
  },
  {
   "cell_type": "code",
   "execution_count": 4,
   "id": "c4b9cf59",
   "metadata": {},
   "outputs": [
    {
     "name": "stdout",
     "output_type": "stream",
     "text": [
      "There are 109853 unique DNA sequences in the 'dna_sequence' column.\n"
     ]
    }
   ],
   "source": [
    "unique_sequences = set()\n",
    "# Iterate over the DNA sequence column and add each unique sequence to the set\n",
    "for sequence in dfclean5['IB']:\n",
    "    if sequence not in unique_sequences:\n",
    "        unique_sequences.add(sequence)\n",
    "\n",
    "# Print the number of unique sequences\n",
    "print(f\"There are {len(unique_sequences)} unique DNA sequences in the 'dna_sequence' column.\")"
   ]
  },
  {
   "cell_type": "markdown",
   "id": "28d37491",
   "metadata": {},
   "source": [
    "## generate dict of dataframes, one for each plate, showing count per well"
   ]
  },
  {
   "cell_type": "code",
   "execution_count": null,
   "id": "bfe1fab8",
   "metadata": {},
   "outputs": [],
   "source": [
    "# Group the dataframe by 'plate' and 'well' and count the occurrences\n",
    "grouped5 = dfclean5.groupby(['plate', 'well']).size()\n",
    "grouped5df = grouped5.reset_index().rename(columns={0:'count'})\n",
    "#print(type(grouped3df))\n",
    "#print(grouped3df.columns)\n",
    "#print(grouped5)"
   ]
  },
  {
   "cell_type": "code",
   "execution_count": 13,
   "id": "ed181314",
   "metadata": {
    "scrolled": true
   },
   "outputs": [
    {
     "name": "stdout",
     "output_type": "stream",
     "text": [
      "Index(['plate', 'well', 'count', 'wellLet', 'wellLet2', 'wellNo', 'platenum'], dtype='object')\n"
     ]
    }
   ],
   "source": [
    "grouped5df['wellLet'] = grouped5df['well'].str.extract('([A-Za-z]+)')\n",
    "grouped5df['wellLet2'] = grouped5df['well'].str.extract('([A-Za-z]+)')\n",
    "grouped5df['wellNo'] = grouped5df['well'].str.extract('(\\d+)').astype(int)\n",
    "grouped5df['platenum'] = grouped5df['plate'].str.extract('(\\d+)').astype(int)\n",
    "print(grouped5df.columns)\n"
   ]
  },
  {
   "cell_type": "code",
   "execution_count": 13,
   "id": "19ab4d51",
   "metadata": {},
   "outputs": [
    {
     "name": "stdout",
     "output_type": "stream",
     "text": [
      "Percentage of not empty wells: 57.5\n",
      "[████████████████████████████░░░░░░░░░░░░░░░░░░░░░░]\n",
      "   \n",
      "Percentage of not empty minus excess: 49.1\n",
      "[████████████████████████░░░░░░░░░░░░░░░░░░░░░░░░░░]\n"
     ]
    }
   ],
   "source": [
    "def draw_completion_bar(percentage):\n",
    "    bar_length = 50\n",
    "    num_blocks = int(percentage / 100 * bar_length)\n",
    "    completion_bar = \"[\" + \"█\" * num_blocks + \"░\" * (bar_length - num_blocks) + \"]\"\n",
    "    print(completion_bar)\n",
    "    \n",
    "num_rows = grouped5df.shape[0]\n",
    "num_final = 422*24*16\n",
    "count_greater_than_one = (grouped5df['count'] > 1).sum()\n",
    "\n",
    "chamicals= round((num_rows/num_final)*100,1)\n",
    "print(\"Percentage of not empty wells:\", chamicals)\n",
    "draw_completion_bar(chamicals)\n",
    "print('   ')\n",
    "chamicals2= round(((num_rows-count_greater_than_one)/num_final)*100,1)\n",
    "print(\"Percentage of not empty minus excess:\", chamicals2)\n",
    "draw_completion_bar(chamicals2)\n"
   ]
  },
  {
   "cell_type": "code",
   "execution_count": 14,
   "id": "1da2f455",
   "metadata": {},
   "outputs": [
    {
     "name": "stdout",
     "output_type": "stream",
     "text": [
      "<class 'dict'>\n"
     ]
    }
   ],
   "source": [
    "grouped5dfs = {}\n",
    "for pattern, group in grouped5df.groupby('platenum'):\n",
    "    grouped5dfs[pattern] = group\n",
    "#print(grouped3dfs)\n",
    "print(type(grouped5dfs))"
   ]
  },
  {
   "cell_type": "markdown",
   "id": "6e68645d",
   "metadata": {},
   "source": [
    "## Plot readcounts per plate"
   ]
  },
  {
   "cell_type": "code",
   "execution_count": null,
   "id": "5e4e7869",
   "metadata": {},
   "outputs": [],
   "source": [
    "for key, df in grouped5dfs.items():\n",
    "    indvWell= df.groupby('wellLet')\n",
    "    plt.figure(figsize=(25, 6))\n",
    "    #plt.scatter(df['well'],df['count'])\n",
    "    plt.xlabel('well')\n",
    "    plt.ylabel('count')\n",
    "    plt.title(f'Plot for plate {key}')\n",
    "    for group_name, group_data in indvWell:  \n",
    "        x_values = group_data['wellNo']\n",
    "        y_values = group_data['count']\n",
    "        noise = np.random.uniform(low=-0.1, high=0.1, size=len(x_values))\n",
    "        shifted_x = x_values + noise\n",
    "        plt.scatter(shifted_x, y_values, label=group_name, alpha=0.7, s=10)\n",
    "        #plt.plot(shifted_x, y_values, label=group_name, alpha=0.7)\n",
    "        x_label = x_values.iloc[-1]\n",
    "        y_label = y_values.iloc[-1]\n",
    "        #plt.text(x_label, y_label, group_name, ha='center', va='center')\n",
    "    plt.legend()\n",
    "    plt.show()"
   ]
  },
  {
   "cell_type": "markdown",
   "id": "dc7c5e12",
   "metadata": {},
   "source": [
    "## Plot readcounts per well per plate"
   ]
  },
  {
   "cell_type": "code",
   "execution_count": 2,
   "id": "3b07a647",
   "metadata": {},
   "outputs": [
    {
     "ename": "NameError",
     "evalue": "name 'grouped5dfs' is not defined",
     "output_type": "error",
     "traceback": [
      "\u001b[1;31m---------------------------------------------------------------------------\u001b[0m",
      "\u001b[1;31mNameError\u001b[0m                                 Traceback (most recent call last)",
      "\u001b[1;32m~\\AppData\\Local\\Temp\\ipykernel_23592\\639693880.py\u001b[0m in \u001b[0;36m<module>\u001b[1;34m\u001b[0m\n\u001b[1;32m----> 1\u001b[1;33m \u001b[1;32mfor\u001b[0m \u001b[0mkey\u001b[0m\u001b[1;33m,\u001b[0m \u001b[0mdf\u001b[0m \u001b[1;32min\u001b[0m \u001b[0mgrouped5dfs\u001b[0m\u001b[1;33m.\u001b[0m\u001b[0mitems\u001b[0m\u001b[1;33m(\u001b[0m\u001b[1;33m)\u001b[0m\u001b[1;33m:\u001b[0m\u001b[1;33m\u001b[0m\u001b[1;33m\u001b[0m\u001b[0m\n\u001b[0m\u001b[0;32m      2\u001b[0m     \u001b[0mindvWell\u001b[0m\u001b[1;33m=\u001b[0m \u001b[0mdf\u001b[0m\u001b[1;33m.\u001b[0m\u001b[0mgroupby\u001b[0m\u001b[1;33m(\u001b[0m\u001b[1;34m'wellLet'\u001b[0m\u001b[1;33m)\u001b[0m\u001b[1;33m\u001b[0m\u001b[1;33m\u001b[0m\u001b[0m\n\u001b[0;32m      3\u001b[0m     \u001b[1;32mfor\u001b[0m \u001b[0mgroup_name\u001b[0m\u001b[1;33m,\u001b[0m \u001b[0mgroup_data\u001b[0m \u001b[1;32min\u001b[0m \u001b[0mindvWell\u001b[0m\u001b[1;33m:\u001b[0m\u001b[1;33m\u001b[0m\u001b[1;33m\u001b[0m\u001b[0m\n\u001b[0;32m      4\u001b[0m         \u001b[0mplt\u001b[0m\u001b[1;33m.\u001b[0m\u001b[0mfigure\u001b[0m\u001b[1;33m(\u001b[0m\u001b[0mfigsize\u001b[0m\u001b[1;33m=\u001b[0m\u001b[1;33m(\u001b[0m\u001b[1;36m25\u001b[0m\u001b[1;33m,\u001b[0m \u001b[1;36m6\u001b[0m\u001b[1;33m)\u001b[0m\u001b[1;33m)\u001b[0m\u001b[1;33m\u001b[0m\u001b[1;33m\u001b[0m\u001b[0m\n\u001b[0;32m      5\u001b[0m         \u001b[1;31m#plt.scatter(df['well'],df['count'])\u001b[0m\u001b[1;33m\u001b[0m\u001b[1;33m\u001b[0m\u001b[0m\n",
      "\u001b[1;31mNameError\u001b[0m: name 'grouped5dfs' is not defined"
     ]
    }
   ],
   "source": [
    "for key, df in grouped5dfs.items():\n",
    "    indvWell= df.groupby('wellLet')\n",
    "    for group_name, group_data in indvWell:  \n",
    "        plt.figure(figsize=(25, 6))\n",
    "        #plt.scatter(df['well'],df['count'])\n",
    "        plt.xlabel('well')\n",
    "        plt.ylabel('count')\n",
    "        plt.title(f'Plot for plate {key}')\n",
    "        x_values = group_data['wellNo']\n",
    "        y_values = group_data['count']\n",
    "        noise = np.random.uniform(low=-0.1, high=0.1, size=len(x_values))\n",
    "        shifted_x = x_values + noise\n",
    "        plt.scatter(shifted_x, y_values, label=group_name, alpha=0.7, s=10)\n",
    "        plt.xticks(range(1, 25))\n",
    "        #plt.plot(shifted_x, y_values, label=group_name, alpha=0.7)\n",
    "        x_label = x_values.iloc[-1]\n",
    "        y_label = y_values.iloc[-1]\n",
    "        #plt.text(x_label, y_label, group_name, ha='center', va='center')\n",
    "        plt.legend()\n",
    "        plt.show()"
   ]
  },
  {
   "cell_type": "markdown",
   "id": "1c515b29",
   "metadata": {},
   "source": [
    "## Plot a heatmap"
   ]
  },
  {
   "cell_type": "code",
   "execution_count": null,
   "id": "081c5d8e",
   "metadata": {},
   "outputs": [],
   "source": [
    "# Create an empty dataframe to store the concatenated pivot data\n",
    "concatenated_pivot_data = pd.DataFrame()\n",
    "\n",
    "# Iterate over the grouped data\n",
    "for key, df in grouped3dfs.items():\n",
    "    indvWell = df.groupby('wellLet')\n",
    "    # Iterate over each group\n",
    "    for group_name, group_data in indvWell:\n",
    "        #print(group_data)\n",
    "        pivot_data = group_data.pivot_table(index='wellLet', columns='wellNo', values='count')\n",
    "        pivot_data = pivot_data.reindex(columns=np.arange(1, 25))\n",
    "        pivot_data = pivot_data.fillna(0)\n",
    "        #print(pivot_data)\n",
    "    # Add the pivot data to the concatenated dataframe\n",
    "        concatenated_pivot_data = pd.concat([concatenated_pivot_data, pivot_data])\n",
    "        #print(concatenated_pivot_data)\n",
    "# Plot the heatmap for the concatenated pivot data\n",
    "    #plt.figure(figsize=(10, 8))\n",
    "    sns.heatmap(concatenated_pivot_data, cmap='Greens', annot=True, vmin=0, vmax=5)\n",
    "    plt.xlabel('wellNo')\n",
    "    plt.ylabel('well')\n",
    "    plt.title(key)\n",
    "    plt.show()\n",
    "    concatenated_pivot_data = pd.DataFrame()"
   ]
  },
  {
   "cell_type": "code",
   "execution_count": null,
   "id": "70cc9aaa",
   "metadata": {},
   "outputs": [],
   "source": []
  },
  {
   "cell_type": "code",
   "execution_count": null,
   "id": "f01d310e",
   "metadata": {},
   "outputs": [],
   "source": []
  }
 ],
 "metadata": {
  "kernelspec": {
   "display_name": "Python 3 (ipykernel)",
   "language": "python",
   "name": "python3"
  },
  "language_info": {
   "codemirror_mode": {
    "name": "ipython",
    "version": 3
   },
   "file_extension": ".py",
   "mimetype": "text/x-python",
   "name": "python",
   "nbconvert_exporter": "python",
   "pygments_lexer": "ipython3",
   "version": "3.9.13"
  }
 },
 "nbformat": 4,
 "nbformat_minor": 5
}
