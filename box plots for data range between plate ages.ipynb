{
 "cells": [
  {
   "cell_type": "markdown",
   "id": "eed47972",
   "metadata": {},
   "source": [
    "The point of this script was to see the data range between the different aged plates. Some plates grew for one week from regular sized colonies, and others (after 150) grew for two weeks from very small colonies. I wanted to see if the growth and age impacts variation. Martin later recommended I analyze it based on ratios instead."
   ]
  },
  {
   "cell_type": "code",
   "execution_count": null,
   "id": "4c9b8a2c",
   "metadata": {},
   "outputs": [],
   "source": [
    "import pandas as pd\n",
    "import seaborn as sns\n",
    "import matplotlib.pyplot as plt\n",
    "plt.rcParams['figure.max_open_warning'] = 0\n",
    "import numpy as np\n",
    "#import pandas as pd\n",
    "df3 = pd.read_table(r\"D:\\Yuliya_test_data_table\\Yuliya_test_data_table_deconv-only_3prime.txt\", delimiter = '\\t')#, nrows=2)\n",
    "df5 = pd.read_table(r\"D:\\Yuliya_test_data_table\\Yuliya_test_data_table_deconv-only.txt\", delimiter = '\\t')#, nrows=2)\n",
    "#how many unique dna seq\n",
    "unique_sequences = set()"
   ]
  },
  {
   "cell_type": "markdown",
   "id": "74bcbe15",
   "metadata": {},
   "source": [
    "# 3'"
   ]
  },
  {
   "cell_type": "code",
   "execution_count": null,
   "id": "24ae989e",
   "metadata": {},
   "outputs": [],
   "source": [
    "dfclean3 = df3.copy()\n",
    "#keep this order because I went through the output file individually to determine these lines\n",
    "dfclean3 = dfclean3[~dfclean3.index.isin(range(32629, 32917))] #122\n",
    "dfclean3 = dfclean3[~dfclean3.index.isin(range(33826, 34687))] #126, 127, 128\n",
    "dfclean3 = dfclean3[~dfclean3.index.isin(range(34943, 35494))] #130, 131\n",
    "dfclean3 = dfclean3[~dfclean3.index.isin(range(35757, 36008))] #133\n",
    "dfclean3 = dfclean3[~dfclean3.index.isin(range(37729, 37949))] #140\n",
    "dfclean3 = dfclean3[~dfclean3.index.isin(range(38234, 38463))] #142\n",
    "dfclean3 = dfclean3[~dfclean3.index.isin(range(38972, 39559))] #145, 146\n",
    "dfclean3 = dfclean3[~dfclean3.index.isin(range(45581, 48310))] #170, 171, 172, 173, 174, 175, 176, 177, 178, 179, 180, 181, 182\n",
    "dfclean3 = dfclean3[~(dfclean3.index >= 111952)] #the rest\n",
    "\n",
    "pd.set_option('display.max_rows', None)  # Show all rows\n",
    "pd.set_option('display.max_columns', None)  # Show all columns\n",
    "pd.set_option('display.width', None)  # Disable column width wrapping\n",
    "\n",
    "# Print the entire dataframe\n",
    "#print(dfclean3)\n",
    "#dfclean2.to_excel('C:/Users/Administrator/Desktop/dfclean3.xlsx', index=False)"
   ]
  },
  {
   "cell_type": "code",
   "execution_count": null,
   "id": "e7c32a38",
   "metadata": {},
   "outputs": [],
   "source": [
    "#print(dfclean3.head())\n",
    "\n",
    "grouped_dfclean3 = dfclean3.groupby(['plate', 'well'], as_index=False).mean().round()\n",
    "\n",
    "#print(grouped_dfclean3)\n"
   ]
  },
  {
   "cell_type": "markdown",
   "id": "bddccaa3",
   "metadata": {},
   "source": [
    "### Seeing the raw data variation"
   ]
  },
  {
   "cell_type": "code",
   "execution_count": null,
   "id": "56b9e424",
   "metadata": {},
   "outputs": [],
   "source": [
    "#one big plot\n",
    "import matplotlib.pyplot as plt\n",
    "\n",
    "grouped_dfclean3['plates'] = grouped_dfclean3['plate'].str.extract('(\\d+)')\n",
    "\n",
    "plates = grouped_dfclean3['plates']\n",
    "c13 = grouped_dfclean3['C13']\n",
    "cd23 = grouped_dfclean3['CD23']\n",
    "d13 = grouped_dfclean3['D13']\n",
    "r13 = grouped_dfclean3['R13']\n",
    "r23 = grouped_dfclean3['R23']\n",
    "\n",
    "# Create the plot\n",
    "fig, ax = plt.subplots()\n",
    "ax.plot(plates, c13, label='C13')\n",
    "ax.plot(plates, cd23, label='CD23')\n",
    "ax.plot(plates, d13, label='D13')\n",
    "ax.plot(plates, r13, label='R13')\n",
    "ax.plot(plates, r23, label='R23')\n",
    "\n",
    "# Set the title and axis labels\n",
    "ax.set_title('Data for Plates')\n",
    "ax.set_xlabel('Plate')\n",
    "ax.set_ylabel('Value')\n",
    "\n",
    "# Add a legend to the plot\n",
    "ax.legend()\n",
    "\n",
    "# Show the plot\n",
    "plt.show()"
   ]
  },
  {
   "cell_type": "markdown",
   "id": "e4b1bcc2",
   "metadata": {},
   "source": [
    "### create a z-score and adjust to median as previously"
   ]
  },
  {
   "cell_type": "code",
   "execution_count": null,
   "id": "cf8b778a",
   "metadata": {},
   "outputs": [],
   "source": [
    "# Select numeric columns (excluding non-numeric columns like 'x', 'plate', and 'well')\n",
    "numeric_columns = dfclean3.select_dtypes(include=[pd.np.number]).columns\n",
    "\n",
    "dfclean3_zscores = dfclean3\n",
    "# Calculate z-scores and add them as new columns\n",
    "for col in numeric_columns:\n",
    "    col_zscore = f'{col}_zscore'\n",
    "    mean = dfclean3_zscores[col].mean()\n",
    "    std = dfclean3_zscores[col].std()\n",
    "    dfclean3_zscores[col_zscore] = (dfclean3_zscores[col] - mean) / std\n",
    "\n",
    "print(dfclean3_zscores)"
   ]
  },
  {
   "cell_type": "code",
   "execution_count": null,
   "id": "9789b036",
   "metadata": {},
   "outputs": [],
   "source": [
    "dfclean3_adjustedto_m = dfclean3\n",
    "numeric_columns = dfclean3_adjustedto_m.select_dtypes(include=[np.number]).columns\n",
    "\n",
    "# Calculate z-scores and adjust outliers to the mean\n",
    "numeric_columns = dfclean3_adjustedto_m.select_dtypes(include=[np.number]).columns\n",
    "\n",
    "# Adjust outliers to the mean\n",
    "for col in numeric_columns:\n",
    "    mean = dfclean3_adjustedto_m[col].mean()\n",
    "    std = dfclean3_adjustedto_m[col].std()\n",
    "    z_scores = (dfclean3_adjustedto_m[col] - mean) / std\n",
    "    \n",
    "    # Replace outliers (threshold: 3 standard deviations from the mean) with the mean\n",
    "    outlier_threshold = 20.0\n",
    "    dfclean3_adjustedto_m[col] = np.where(np.abs(z_scores) > outlier_threshold, mean, dfclean3_adjustedto_m[col])\n",
    "    dfclean3_adjustedto_m[col] =  dfclean3_adjustedto_m[col].astype(int)\n",
    "#print(dfclean3_adjustedto_m)"
   ]
  },
  {
   "cell_type": "code",
   "execution_count": null,
   "id": "f26e1b98",
   "metadata": {},
   "outputs": [],
   "source": [
    "#one big plot\n",
    "import matplotlib.pyplot as plt\n",
    "\n",
    "dfclean3_adjustedto_m['plates'] = dfclean3_adjustedto_m['plate'].str.extract('(\\d+)')\n",
    "\n",
    "plates = dfclean3_adjustedto_m['plates']\n",
    "c13 = dfclean3_adjustedto_m['C13']\n",
    "cd23 = dfclean3_adjustedto_m['CD23']\n",
    "d13 = dfclean3_adjustedto_m['D13']\n",
    "r13 = dfclean3_adjustedto_m['R13']\n",
    "r23 = dfclean3_adjustedto_m['R23']\n",
    "\n",
    "# Create the plot\n",
    "fig, ax = plt.subplots()\n",
    "ax.plot(plates, c13, label='C13')\n",
    "ax.plot(plates, cd23, label='CD23')\n",
    "ax.plot(plates, d13, label='D13')\n",
    "ax.plot(plates, r13, label='R13')\n",
    "ax.plot(plates, r23, label='R23')\n",
    "\n",
    "# Set the title and axis labels\n",
    "ax.set_title('Data for Plates')\n",
    "ax.set_xlabel('Plate')\n",
    "ax.set_ylabel('Value')\n",
    "\n",
    "# Add a legend to the plot\n",
    "ax.legend()\n",
    "\n",
    "# Show the plot\n",
    "plt.show()"
   ]
  },
  {
   "cell_type": "markdown",
   "id": "8c60e040",
   "metadata": {},
   "source": [
    "### divide the data between the first and the second 150 plates - 1 wk vs 2 wk"
   ]
  },
  {
   "cell_type": "code",
   "execution_count": null,
   "id": "fa775636",
   "metadata": {},
   "outputs": [],
   "source": [
    "one_wk3 = dfclean3.iloc[:150]  \n",
    "two_wk3= dfclean3.iloc[150:300]   \n",
    "one_wkadj3 = dfclean3_adjustedto_m.iloc[:150]  \n",
    "two_wkadj3 = dfclean3_adjustedto_m.iloc[150:300]   "
   ]
  },
  {
   "cell_type": "markdown",
   "id": "5ed9c302",
   "metadata": {},
   "source": [
    "### create boxplot for the data"
   ]
  },
  {
   "cell_type": "code",
   "execution_count": null,
   "id": "7a4a7325",
   "metadata": {},
   "outputs": [],
   "source": [
    "full_data_one3 = one_wk3['C13']+one_wk3['CD23']+one_wk3['D13']+one_wk3['R13']+one_wk3['R23']\n",
    "full_data_two3 = two_wk3['C13']+two_wk3['CD23']+two_wk3['D13']+two_wk3['R13']+two_wk3['R23']\n",
    "full_data_oneadj3 = one_wkadj3['C13']+one_wkadj3['CD23']+one_wkadj3['D13']+one_wkadj3['R13']+one_wkadj3['R23']\n",
    "full_data_twoadj3 = two_wkadj3['C13']+two_wkadj3['CD23']+two_wkadj3['D13']+two_wkadj3['R13']+two_wkadj3['R23']\n",
    "\n",
    "plt.figure(figsize=(10, 6))\n",
    "plt.boxplot([full_data_one3, full_data_two3, full_data_oneadj3, full_data_twoadj3], labels=['one_wk', 'two_wk', 'one_wkadj', 'two_wkadj'])\n",
    "\n",
    "plt.xlabel('DataFrames')\n",
    "plt.ylabel('Value')\n",
    "plt.title('Box Plots for Specified Columns in Different DataFrames')\n",
    "\n",
    "plt.show()"
   ]
  },
  {
   "cell_type": "markdown",
   "id": "07f4888f",
   "metadata": {},
   "source": [
    "# 5'"
   ]
  },
  {
   "cell_type": "code",
   "execution_count": null,
   "id": "ddfaebe5",
   "metadata": {},
   "outputs": [],
   "source": [
    "dfclean5 = df5.copy()\n",
    "#keep this order because I went through the output file individually to determine these lines\n",
    "dfclean5 = dfclean5[~dfclean5.index.isin(range(33482, 33797))] #122\n",
    "dfclean5 = dfclean5[~dfclean5.index.isin(range(34747, 35652))] #126, 127, 128\n",
    "dfclean5 = dfclean5[~dfclean5.index.isin(range(35930, 36501))] #130, 131\n",
    "dfclean5 = dfclean5[~dfclean5.index.isin(range(36770, 37054))] #133\n",
    "dfclean5 = dfclean5[~dfclean5.index.isin(range(38773, 39015))] #140\n",
    "dfclean5 = dfclean5[~dfclean5.index.isin(range(39325, 39543))] #142\n",
    "dfclean5 = dfclean5[~dfclean5.index.isin(range(40030, 40626))] #145, 146\n",
    "dfclean5 = dfclean5[~dfclean5.index.isin(range(46853, 49718))] #170, 171, 172, 173, 174, 175, 176, 177, 178, 179, 180, 181, 182\n",
    "dfclean5 = dfclean5[~(dfclean5.index >= 115849)] #the rest\n",
    "\n",
    "pd.set_option('display.max_rows', None)  # Show all rows\n",
    "pd.set_option('display.max_columns', None)  # Show all columns\n",
    "pd.set_option('display.width', None)  # Disable column width wrapping\n",
    "\n",
    "# Print the entire dataframe\n",
    "print(dfclean5)\n",
    "#dfclean2.to_excel('C:/Users/Administrator/Desktop/dfclean5.xlsx', index=False)"
   ]
  },
  {
   "cell_type": "code",
   "execution_count": null,
   "id": "8a66c51c",
   "metadata": {},
   "outputs": [],
   "source": [
    "#print(dfclean3.head())\n",
    "\n",
    "grouped_dfclean5 = dfclean5.groupby(['plate', 'well'], as_index=False).mean().round()\n",
    "\n",
    "#print(grouped_dfclean5)"
   ]
  },
  {
   "cell_type": "markdown",
   "id": "4428159a",
   "metadata": {},
   "source": [
    "### graph raw data"
   ]
  },
  {
   "cell_type": "code",
   "execution_count": null,
   "id": "396baf92",
   "metadata": {},
   "outputs": [],
   "source": [
    "#one big plot\n",
    "import matplotlib.pyplot as plt\n",
    "\n",
    "grouped_dfclean5['plates'] = grouped_dfclean5['plate'].str.extract('(\\d+)')\n",
    "\n",
    "plates = grouped_dfclean5['plates']\n",
    "c15 = grouped_dfclean5['C15']\n",
    "c25 = grouped_dfclean5['C25']\n",
    "d25 = grouped_dfclean5['D25']\n",
    "d15 = grouped_dfclean5['D15']\n",
    "r15 = grouped_dfclean5['R15']\n",
    "r25 = grouped_dfclean5['R25']\n",
    "\n",
    "# Create the plot\n",
    "fig, ax = plt.subplots()\n",
    "ax.plot(plates, c15, label='C15')\n",
    "ax.plot(plates, c25, label='C25')\n",
    "ax.plot(plates, d25, label='D25')\n",
    "ax.plot(plates, d15, label='D15')\n",
    "ax.plot(plates, r15, label='R15')\n",
    "ax.plot(plates, r25, label='R25')\n",
    "\n",
    "# Set the title and axis labels\n",
    "ax.set_title('Data for Plates')\n",
    "ax.set_xlabel('Plate')\n",
    "ax.set_ylabel('Value')\n",
    "\n",
    "# Add a legend to the plot\n",
    "ax.legend()\n",
    "\n",
    "# Show the plot\n",
    "plt.show()"
   ]
  },
  {
   "cell_type": "markdown",
   "id": "e640478c",
   "metadata": {},
   "source": [
    "### adjust to mean"
   ]
  },
  {
   "cell_type": "code",
   "execution_count": null,
   "id": "ad988497",
   "metadata": {},
   "outputs": [],
   "source": [
    "dfclean5_adjustedto_m = dfclean5\n",
    "numeric_columns = dfclean5_adjustedto_m.select_dtypes(include=[np.number]).columns\n",
    "\n",
    "# Calculate z-scores and adjust outliers to the mean\n",
    "numeric_columns = dfclean5_adjustedto_m.select_dtypes(include=[np.number]).columns\n",
    "\n",
    "# Adjust outliers to the mean\n",
    "for col in numeric_columns:\n",
    "    mean = dfclean5_adjustedto_m[col].mean()\n",
    "    std = dfclean5_adjustedto_m[col].std()\n",
    "    z_scores = (dfclean5_adjustedto_m[col] - mean) / std\n",
    "    \n",
    "    # Replace outliers (threshold: 3 standard deviations from the mean) with the mean\n",
    "    outlier_threshold = 20.0\n",
    "    dfclean5_adjustedto_m[col] = np.where(np.abs(z_scores) > outlier_threshold, mean, dfclean5_adjustedto_m[col])\n",
    "    dfclean5_adjustedto_m[col] =  dfclean5_adjustedto_m[col].astype(int)\n",
    "#print(dfclean3_adjustedto_m)"
   ]
  },
  {
   "cell_type": "code",
   "execution_count": null,
   "id": "490248f2",
   "metadata": {},
   "outputs": [],
   "source": [
    "import matplotlib.pyplot as plt\n",
    "\n",
    "dfclean5_adjustedto_m['plates'] = dfclean5_adjustedto_m['plate'].str.extract('(\\d+)')\n",
    "\n",
    "plates = dfclean5_adjustedto_m['plates']\n",
    "c15 = dfclean5_adjustedto_m['C15']\n",
    "c25 = dfclean5_adjustedto_m['C25']\n",
    "d25 = dfclean5_adjustedto_m['D25']\n",
    "d15 =dfclean5_adjustedto_m['D15']\n",
    "r15 = dfclean5_adjustedto_m['R15']\n",
    "r25 = dfclean5_adjustedto_m['R25']\n",
    "\n",
    "# Create the plot\n",
    "fig, ax = plt.subplots()\n",
    "ax.plot(plates, c15, label='C15')\n",
    "ax.plot(plates, c25, label='C25')\n",
    "ax.plot(plates, d25, label='D25')\n",
    "ax.plot(plates, d15, label='D15')\n",
    "ax.plot(plates, r15, label='R15')\n",
    "ax.plot(plates, r25, label='R25')\n",
    "\n",
    "# Set the title and axis labels\n",
    "ax.set_title('Data for Plates')\n",
    "ax.set_xlabel('Plate')\n",
    "ax.set_ylabel('Value')\n",
    "\n",
    "# Add a legend to the plot\n",
    "ax.legend()\n",
    "\n",
    "# Show the plot\n",
    "plt.show()"
   ]
  },
  {
   "cell_type": "markdown",
   "id": "853926f0",
   "metadata": {},
   "source": [
    "### divide between first and second 150 plates"
   ]
  },
  {
   "cell_type": "code",
   "execution_count": null,
   "id": "a18ca6e4",
   "metadata": {},
   "outputs": [],
   "source": [
    "one_wk = dfclean5.iloc[:150]  \n",
    "two_wk = dfclean5.iloc[150:300]   \n",
    "one_wkadj = dfclean5_adjustedto_m.iloc[:150]  \n",
    "two_wkadj = dfclean5_adjustedto_m.iloc[150:300]   "
   ]
  },
  {
   "cell_type": "markdown",
   "id": "bcfbbc33",
   "metadata": {},
   "source": [
    "### adjusted vs unadjusted to mean boxplots"
   ]
  },
  {
   "cell_type": "code",
   "execution_count": null,
   "id": "f34ba669",
   "metadata": {},
   "outputs": [],
   "source": [
    "columns_to_compare = ['C15', 'D25', 'C25', 'D15', 'R15', 'R25']\n",
    "\n",
    "# Combine the data from all DataFrames for box plotting\n",
    "all_dataone = [one_wk[col] for col in columns_to_compare]\n",
    "all_datatwo = [two_wk[col] for col in columns_to_compare]\n",
    "all_dataoneadj = [one_wkadj[col] for col in columns_to_compare]\n",
    "all_datatwoadj = [two_wkadj[col] for col in columns_to_compare]\n",
    "\n",
    "labels = columns_to_compare\n",
    "\n",
    "fig, axs = plt.subplots(2, 2, figsize=(12, 8))\n",
    "plt.subplots_adjust(hspace=0.4)\n",
    "\n",
    "# Adjust vertical spacing between subplots\n",
    "\n",
    "axs[0, 0].boxplot(all_dataone)\n",
    "axs[0, 0].set_title('Box Plot for one_wk')\n",
    "axs[0, 0].set_xticklabels(labels)\n",
    "axs[0, 0].set_ylabel('Value')\n",
    "\n",
    "axs[0, 1].boxplot(all_datatwo)\n",
    "axs[0, 1].set_title('Box Plot for two_wk')\n",
    "axs[0, 1].set_xticklabels(labels)\n",
    "axs[0, 1].set_ylabel('Value')\n",
    "\n",
    "axs[1, 0].boxplot(all_dataoneadj)\n",
    "axs[1, 0].set_title('Box Plot for one_wkadj')\n",
    "axs[1, 0].set_xticklabels(labels)\n",
    "axs[1, 0].set_ylabel('Value')\n",
    "\n",
    "axs[1, 1].boxplot(all_datatwoadj)\n",
    "axs[1, 1].set_title('Box Plot for two_wkadj')\n",
    "axs[1, 1].set_xticklabels(labels)\n",
    "axs[1, 1].set_ylabel('Value')\n",
    "\n",
    "plt.show()"
   ]
  },
  {
   "cell_type": "markdown",
   "id": "b891c757",
   "metadata": {},
   "source": [
    "### data for every treatment in one"
   ]
  },
  {
   "cell_type": "code",
   "execution_count": null,
   "id": "11461e85",
   "metadata": {
    "scrolled": true
   },
   "outputs": [],
   "source": [
    "full_data_one = one_wk['C15']+one_wk['D25']+one_wk['C25']+one_wk['D15']+one_wk['R15']+one_wk['R25']\n",
    "full_data_two = two_wk['C15']+two_wk['D25']+two_wk['C25']+two_wk['D15']+two_wk['R15']+two_wk['R25']\n",
    "full_data_oneadj = one_wkadj['C15']+one_wkadj['D25']+one_wkadj['C25']+one_wkadj['D15']+one_wkadj['R15']+one_wkadj['R25']\n",
    "full_data_twoadj = two_wkadj['C15']+two_wkadj['D25']+two_wkadj['C25']+two_wkadj['D15']+two_wkadj['R15']+two_wkadj['R25']\n",
    "\n",
    "plt.figure(figsize=(10, 6))\n",
    "plt.boxplot([full_data_one, full_data_two, full_data_oneadj, full_data_twoadj], labels=['one_wk', 'two_wk', 'one_wkadj', 'two_wkadj'])\n",
    "\n",
    "plt.xlabel('DataFrames')\n",
    "plt.ylabel('Value')\n",
    "plt.title('all data plotted')\n",
    "\n",
    "plt.show()\n"
   ]
  },
  {
   "cell_type": "code",
   "execution_count": null,
   "id": "6c6ae51d",
   "metadata": {},
   "outputs": [],
   "source": []
  },
  {
   "cell_type": "code",
   "execution_count": null,
   "id": "3f09ff91",
   "metadata": {},
   "outputs": [],
   "source": []
  },
  {
   "cell_type": "code",
   "execution_count": null,
   "id": "f1ca2be5",
   "metadata": {},
   "outputs": [],
   "source": []
  },
  {
   "cell_type": "code",
   "execution_count": null,
   "id": "649b7917",
   "metadata": {},
   "outputs": [],
   "source": []
  },
  {
   "cell_type": "code",
   "execution_count": null,
   "id": "11e6be8d",
   "metadata": {},
   "outputs": [],
   "source": []
  }
 ],
 "metadata": {
  "kernelspec": {
   "display_name": "Python 3 (ipykernel)",
   "language": "python",
   "name": "python3"
  },
  "language_info": {
   "codemirror_mode": {
    "name": "ipython",
    "version": 3
   },
   "file_extension": ".py",
   "mimetype": "text/x-python",
   "name": "python",
   "nbconvert_exporter": "python",
   "pygments_lexer": "ipython3",
   "version": "3.9.13"
  }
 },
 "nbformat": 4,
 "nbformat_minor": 5
}
